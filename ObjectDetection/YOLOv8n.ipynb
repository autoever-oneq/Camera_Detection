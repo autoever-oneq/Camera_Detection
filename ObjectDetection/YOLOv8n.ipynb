{
  "cells": [
    {
      "cell_type": "markdown",
      "metadata": {
        "id": "vxwCPV23qQhx"
      },
      "source": [
        "# 설치 & 확인"
      ]
    },
    {
      "cell_type": "markdown",
      "metadata": {
        "id": "UNvhLxS2gqmr"
      },
      "source": [
        "## pip install"
      ]
    },
    {
      "cell_type": "code",
      "execution_count": null,
      "metadata": {
        "colab": {
          "base_uri": "https://localhost:8080/"
        },
        "id": "TgpJNG28Zp9F",
        "outputId": "3b3dee02-875d-4483-d509-8a0a771ef7f4"
      },
      "outputs": [],
      "source": [
        "!pip install ultralytics==8.0.196 --quiet\n",
        "!pip install roboflow --quiet"
      ]
    },
    {
      "cell_type": "markdown",
      "metadata": {
        "id": "IKBFRxkvguQC"
      },
      "source": [
        "# 런타임 환경 확인"
      ]
    },
    {
      "cell_type": "markdown",
      "metadata": {
        "id": "wnB8M0R7KMnc"
      },
      "source": [
        "## Import"
      ]
    },
    {
      "cell_type": "code",
      "execution_count": 2,
      "metadata": {
        "id": "c5IBoCgybqFo"
      },
      "outputs": [],
      "source": [
        "from IPython import display\n",
        "from IPython.display import Image\n",
        "from roboflow import Roboflow\n",
        "import ultralytics\n",
        "from ultralytics import YOLO\n",
        "import os"
      ]
    },
    {
      "cell_type": "markdown",
      "metadata": {
        "id": "l466TFvUKRSR"
      },
      "source": [
        "## Version"
      ]
    },
    {
      "cell_type": "code",
      "execution_count": null,
      "metadata": {
        "colab": {
          "base_uri": "https://localhost:8080/"
        },
        "id": "CgzByLdjKeHN",
        "outputId": "36b5292b-dc7c-4b8f-8a94-634dd8dc6f51"
      },
      "outputs": [],
      "source": [
        "display.clear_output()\n",
        "ultralytics.checks()\n",
        "\n",
        "HOME = os.getcwd()\n",
        "print(HOME)"
      ]
    },
    {
      "cell_type": "markdown",
      "metadata": {
        "id": "CwaB7WxXj_ip"
      },
      "source": [
        "# 간이 테스트"
      ]
    },
    {
      "cell_type": "code",
      "execution_count": 4,
      "metadata": {
        "id": "2_4o-BjJiwbG"
      },
      "outputs": [],
      "source": [
        "#!yolo task=detect mode=predict model=yolov8n.pt conf=0.25 source='https://media.roboflow.com/notebooks/examples/dog.jpeg' save=True\n",
        "#Image(filename='runs/detect/predict/dog.jpeg', height=600)"
      ]
    },
    {
      "cell_type": "code",
      "execution_count": 5,
      "metadata": {
        "collapsed": true,
        "id": "ae44fFyjcbGS"
      },
      "outputs": [],
      "source": [
        "#!mkdir {HOME}/datasets\n",
        "#%cd {HOME}/datasets"
      ]
    },
    {
      "cell_type": "markdown",
      "metadata": {
        "id": "aIv6AlOGzdEt"
      },
      "source": [
        "# Model Run"
      ]
    },
    {
      "cell_type": "code",
      "execution_count": null,
      "metadata": {
        "colab": {
          "base_uri": "https://localhost:8080/"
        },
        "id": "8hSvHP_k5BFi",
        "outputId": "d53927dc-e35d-4e3d-ceb1-09216225bd33"
      },
      "outputs": [],
      "source": [
        "# api_key는 계정마다 다름\n",
        "rf = Roboflow(api_key=\"wNo4QrXGVHMuGz8nVoBq\")\n",
        "project = rf.workspace(\"yolov8n-shyng\").project(\"one-q\")\n",
        "version = project.version(1)\n",
        "dataset = version.download(\"yolov8\")"
      ]
    },
    {
      "cell_type": "code",
      "execution_count": null,
      "metadata": {
        "collapsed": true,
        "id": "Vr_X51Zk6U83"
      },
      "outputs": [],
      "source": [
        "\"\"\"\n",
        "### ----- CLI 방식 ----- ###\n",
        "# Train\n",
        "# train 이후 나온 weight에 이어서 재학습 시키려면 yolov8n.pt를 best.pt로 바꾸면 되지 않을까 싶음\n",
        "!yolo task=detect mode=train model=yolov8n.pt data={dataset.location}/data.yaml epochs=30 imgsz=640 plots=True\n",
        "\n",
        "# Predict\n",
        "!yolo task=detect mode=predict model=/content/runs/detect/train/weights/best.pt conf=0.7 source={dataset.location}/test/images save=True\n",
        "\"\"\""
      ]
    },
    {
      "cell_type": "code",
      "execution_count": null,
      "metadata": {
        "colab": {
          "base_uri": "https://localhost:8080/"
        },
        "id": "tLqiU9wkpalT",
        "outputId": "d78cb3da-7c11-4739-e77e-84bcced93cdc"
      },
      "outputs": [],
      "source": [
        "### ----- Code 방식 ----- ###\n",
        "# Train\n",
        "model = YOLO(\"yolov8n.pt\")\n",
        "model.info()\n",
        "model.train(data=f\"{dataset.location}/data.yaml\", epochs=30, imgsz=640)  # \"./datasets/ONE-Q-1/data.yaml\""
      ]
    },
    {
      "cell_type": "code",
      "execution_count": null,
      "metadata": {
        "colab": {
          "base_uri": "https://localhost:8080/"
        },
        "id": "ih0Yjmqx1Q45",
        "outputId": "3736b805-aa1d-417e-d112-f7c6149e92c0"
      },
      "outputs": [],
      "source": [
        "# Test(predict)\n",
        "model = YOLO(\"./runs/detect/train/weights/best.pt\")\n",
        "testImgDir = (f\"{dataset.location}/test/images\") # \"./ONE-Q-1/test/images\"\n",
        "\n",
        "print(testImgDir)\n",
        "for img in os.listdir(testImgDir):\n",
        "  imgName = f\"{testImgDir}/{img}\"\n",
        "  #print(imgName)\n",
        "  results = model.predict(source=imgName, save=True)\n",
        "  print(results[0].boxes.xyxy, results[0].boxes.xyxyn)"
      ]
    },
    {
      "cell_type": "markdown",
      "metadata": {
        "id": "N1nhFcufLmbP"
      },
      "source": [
        "# 코드 방식 train(현재 실행 x)"
      ]
    },
    {
      "cell_type": "code",
      "execution_count": null,
      "metadata": {
        "colab": {
          "base_uri": "https://localhost:8080/",
          "height": 90
        },
        "id": "0siJlrCC0Q3Z",
        "outputId": "4f410d65-5176-4390-fc41-fe7222c88ae0"
      },
      "outputs": [],
      "source": [
        "\"\"\"\n",
        "result = model('runs/detect/predict/dog.jpeg')\n",
        "\n",
        "# Process results list\n",
        "for result in results:\n",
        "    boxes = result.boxes  # Boxes object for bounding box outputs\n",
        "    masks = result.masks  # Masks object for segmentation masks outputs\n",
        "    keypoints = result.keypoints  # Keypoints object for pose outputs\n",
        "    probs = result.probs  # Probs object for classification outputs\n",
        "    obb = result.obb  # Oriented boxes object for OBB outputs\n",
        "    result.show()  # display to screen\n",
        "    result.save(filename=\"result.jpg\")  # save to disk\n",
        "\"\"\""
      ]
    },
    {
      "cell_type": "code",
      "execution_count": null,
      "metadata": {
        "colab": {
          "base_uri": "https://localhost:8080/",
          "height": 54
        },
        "id": "mk9-aMrGgN0L",
        "outputId": "c0b17b19-ba6a-4a21-b3a0-5ba029414ad6"
      },
      "outputs": [],
      "source": [
        "\"\"\"\n",
        "import glob\n",
        "\n",
        "# path & slicing 수정 필요\n",
        "for image_path in glob.glob('/content/runs/detect/predict4/*.jpg')[:5]:\n",
        "  display(Image(filename=image_path, width=640))\n",
        "  print(\"\\n\")\n",
        "\"\"\""
      ]
    },
    {
      "cell_type": "markdown",
      "metadata": {
        "id": "6qAG_-80qJJf"
      },
      "source": [
        "# 참고 자료"
      ]
    },
    {
      "cell_type": "markdown",
      "metadata": {
        "id": "PeDJ5FJOi4KG"
      },
      "source": [
        "https://autoever-oneq.atlassian.net/wiki/spaces/ADP/pages/12124230/YOLO"
      ]
    }
  ],
  "metadata": {
    "accelerator": "GPU",
    "colab": {
      "gpuType": "T4",
      "provenance": []
    },
    "kernelspec": {
      "display_name": "Python 3",
      "name": "python3"
    },
    "language_info": {
      "name": "python"
    }
  },
  "nbformat": 4,
  "nbformat_minor": 0
}
