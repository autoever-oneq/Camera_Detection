{
  "nbformat": 4,
  "nbformat_minor": 0,
  "metadata": {
    "colab": {
      "provenance": [],
      "gpuType": "T4",
      "collapsed_sections": [
        "aIv6AlOGzdEt",
        "N1nhFcufLmbP",
        "i_BzJ98KVKKZ",
        "Cb6uaqNm7xUD",
        "6qAG_-80qJJf"
      ]
    },
    "kernelspec": {
      "name": "python3",
      "display_name": "Python 3"
    },
    "language_info": {
      "name": "python"
    },
    "accelerator": "GPU"
  },
  "cells": [
    {
      "cell_type": "markdown",
      "source": [
        "# 설치 & 확인"
      ],
      "metadata": {
        "id": "vxwCPV23qQhx"
      }
    },
    {
      "cell_type": "code",
      "execution_count": 1,
      "metadata": {
        "id": "TgpJNG28Zp9F",
        "colab": {
          "base_uri": "https://localhost:8080/"
        },
        "outputId": "6b68e3f7-5ff5-4d6e-e08e-25d8e7f08b78"
      },
      "outputs": [
        {
          "output_type": "stream",
          "name": "stdout",
          "text": [
            "\u001b[2K   \u001b[90m━━━━━━━━━━━━━━━━━━━━━━━━━━━━━━━━━━━━━━━━\u001b[0m \u001b[32m631.1/631.1 kB\u001b[0m \u001b[31m40.5 MB/s\u001b[0m eta \u001b[36m0:00:00\u001b[0m\n",
            "\u001b[2K   \u001b[90m━━━━━━━━━━━━━━━━━━━━━━━━━━━━━━━━━━━━━━━━\u001b[0m \u001b[32m363.4/363.4 MB\u001b[0m \u001b[31m4.0 MB/s\u001b[0m eta \u001b[36m0:00:00\u001b[0m\n",
            "\u001b[2K   \u001b[90m━━━━━━━━━━━━━━━━━━━━━━━━━━━━━━━━━━━━━━━━\u001b[0m \u001b[32m13.8/13.8 MB\u001b[0m \u001b[31m53.4 MB/s\u001b[0m eta \u001b[36m0:00:00\u001b[0m\n",
            "\u001b[2K   \u001b[90m━━━━━━━━━━━━━━━━━━━━━━━━━━━━━━━━━━━━━━━━\u001b[0m \u001b[32m24.6/24.6 MB\u001b[0m \u001b[31m31.7 MB/s\u001b[0m eta \u001b[36m0:00:00\u001b[0m\n",
            "\u001b[2K   \u001b[90m━━━━━━━━━━━━━━━━━━━━━━━━━━━━━━━━━━━━━━━━\u001b[0m \u001b[32m883.7/883.7 kB\u001b[0m \u001b[31m39.3 MB/s\u001b[0m eta \u001b[36m0:00:00\u001b[0m\n",
            "\u001b[2K   \u001b[90m━━━━━━━━━━━━━━━━━━━━━━━━━━━━━━━━━━━━━━━━\u001b[0m \u001b[32m664.8/664.8 MB\u001b[0m \u001b[31m2.6 MB/s\u001b[0m eta \u001b[36m0:00:00\u001b[0m\n",
            "\u001b[2K   \u001b[90m━━━━━━━━━━━━━━━━━━━━━━━━━━━━━━━━━━━━━━━━\u001b[0m \u001b[32m211.5/211.5 MB\u001b[0m \u001b[31m5.4 MB/s\u001b[0m eta \u001b[36m0:00:00\u001b[0m\n",
            "\u001b[2K   \u001b[90m━━━━━━━━━━━━━━━━━━━━━━━━━━━━━━━━━━━━━━━━\u001b[0m \u001b[32m56.3/56.3 MB\u001b[0m \u001b[31m13.6 MB/s\u001b[0m eta \u001b[36m0:00:00\u001b[0m\n",
            "\u001b[2K   \u001b[90m━━━━━━━━━━━━━━━━━━━━━━━━━━━━━━━━━━━━━━━━\u001b[0m \u001b[32m127.9/127.9 MB\u001b[0m \u001b[31m7.3 MB/s\u001b[0m eta \u001b[36m0:00:00\u001b[0m\n",
            "\u001b[2K   \u001b[90m━━━━━━━━━━━━━━━━━━━━━━━━━━━━━━━━━━━━━━━━\u001b[0m \u001b[32m207.5/207.5 MB\u001b[0m \u001b[31m5.7 MB/s\u001b[0m eta \u001b[36m0:00:00\u001b[0m\n",
            "\u001b[2K   \u001b[90m━━━━━━━━━━━━━━━━━━━━━━━━━━━━━━━━━━━━━━━━\u001b[0m \u001b[32m21.1/21.1 MB\u001b[0m \u001b[31m87.8 MB/s\u001b[0m eta \u001b[36m0:00:00\u001b[0m\n",
            "\u001b[2K   \u001b[90m━━━━━━━━━━━━━━━━━━━━━━━━━━━━━━━━━━━━━━━━\u001b[0m \u001b[32m83.1/83.1 kB\u001b[0m \u001b[31m8.9 MB/s\u001b[0m eta \u001b[36m0:00:00\u001b[0m\n",
            "\u001b[2K   \u001b[90m━━━━━━━━━━━━━━━━━━━━━━━━━━━━━━━━━━━━━━━━\u001b[0m \u001b[32m66.8/66.8 kB\u001b[0m \u001b[31m6.2 MB/s\u001b[0m eta \u001b[36m0:00:00\u001b[0m\n",
            "\u001b[2K   \u001b[90m━━━━━━━━━━━━━━━━━━━━━━━━━━━━━━━━━━━━━━━━\u001b[0m \u001b[32m49.9/49.9 MB\u001b[0m \u001b[31m13.2 MB/s\u001b[0m eta \u001b[36m0:00:00\u001b[0m\n",
            "\u001b[?25h"
          ]
        }
      ],
      "source": [
        "!pip install ultralytics==8.0.196 --quiet\n",
        "!pip install roboflow --quiet"
      ]
    },
    {
      "cell_type": "code",
      "source": [
        "from IPython import display\n",
        "from IPython.display import Image\n",
        "from roboflow import Roboflow\n",
        "import ultralytics\n",
        "from ultralytics import YOLO\n",
        "import os"
      ],
      "metadata": {
        "id": "LHglUK6Uagm8"
      },
      "execution_count": 2,
      "outputs": []
    },
    {
      "cell_type": "code",
      "source": [
        "rf = Roboflow(api_key=\"\")\n",
        "project = rf.workspace(\"yolov8n-shyng\").project(\"one-q\")\n",
        "version = project.version(2)\n",
        "dataset = version.download(\"yolov8\")"
      ],
      "metadata": {
        "id": "gZpQ_CGJanZE",
        "colab": {
          "base_uri": "https://localhost:8080/"
        },
        "outputId": "1b2444f5-a7c4-4919-80d7-0dede09bca37"
      },
      "execution_count": 3,
      "outputs": [
        {
          "output_type": "stream",
          "name": "stdout",
          "text": [
            "loading Roboflow workspace...\n",
            "loading Roboflow project...\n"
          ]
        },
        {
          "output_type": "stream",
          "name": "stderr",
          "text": [
            "Downloading Dataset Version Zip in ONE-Q-2 to yolov8:: 100%|██████████| 37123/37123 [00:03<00:00, 10024.39it/s]"
          ]
        },
        {
          "output_type": "stream",
          "name": "stdout",
          "text": [
            "\n"
          ]
        },
        {
          "output_type": "stream",
          "name": "stderr",
          "text": [
            "\n",
            "Extracting Dataset Version Zip to ONE-Q-2 in yolov8:: 100%|██████████| 3194/3194 [00:01<00:00, 2507.41it/s]\n"
          ]
        }
      ]
    },
    {
      "cell_type": "markdown",
      "source": [
        "# Model Train(CLI)"
      ],
      "metadata": {
        "id": "aIv6AlOGzdEt"
      }
    },
    {
      "cell_type": "code",
      "source": [
        "\"\"\"\n",
        "### ----- CLI 방식 ----- ###\n",
        "# Train\n",
        "# train 이후 나온 weight에 이어서 재학습 시키려면 yolov8n.pt를 best.pt로 바꾸면 되지 않을까 싶음\n",
        "!yolo task=detect mode=train model=yolov8n.pt data={dataset.location}/data.yaml epochs=30 imgsz=640 plots=True\n",
        "\n",
        "# Predict\n",
        "!yolo task=detect mode=predict model=/content/runs/detect/train/weights/best.pt conf=0.7 source={dataset.location}/test/images save=True\n",
        "\"\"\""
      ],
      "metadata": {
        "collapsed": true,
        "id": "Vr_X51Zk6U83"
      },
      "execution_count": null,
      "outputs": []
    },
    {
      "cell_type": "markdown",
      "source": [
        "# Model Train(Code)"
      ],
      "metadata": {
        "id": "N1nhFcufLmbP"
      }
    },
    {
      "cell_type": "code",
      "source": [
        "### ----- Code 방식 ----- ###\n",
        "# Train\n",
        "model = YOLO(\"yolov8n.pt\")\n",
        "model.info()\n",
        "model.train(data=f\"{dataset.location}/data.yaml\", epochs=50, imgsz=640)  # \"./datasets/ONE-Q-1/data.yaml\""
      ],
      "metadata": {
        "id": "tLqiU9wkpalT"
      },
      "execution_count": null,
      "outputs": []
    },
    {
      "cell_type": "markdown",
      "source": [
        "# Model Test"
      ],
      "metadata": {
        "id": "i_BzJ98KVKKZ"
      }
    },
    {
      "cell_type": "code",
      "source": [
        "!sudo rm -rf runs"
      ],
      "metadata": {
        "id": "6-WCHOmIb5vG"
      },
      "execution_count": null,
      "outputs": []
    },
    {
      "cell_type": "code",
      "source": [
        "from ultralytics import YOLO\n",
        "import os\n",
        "\n",
        "# Test(predict)\n",
        "model = YOLO(\"best.pt\")\n",
        "\n",
        "testImgDir = (f\"{dataset.location}/test/images\") # \"./ONE-Q-1/test/images\"\n",
        "for img in os.listdir(testImgDir)[:10]:\n",
        "  imgName = f\"{testImgDir}/{img}\"\n",
        "  print(imgName)\n",
        "  results = model.predict(source=imgName, save=True)\n",
        "  print(results[0].boxes)"
      ],
      "metadata": {
        "id": "zrmzrm2_9iaE"
      },
      "execution_count": null,
      "outputs": []
    },
    {
      "cell_type": "markdown",
      "source": [
        "# .pt 모델 다른 형식으로 import"
      ],
      "metadata": {
        "id": "Cb6uaqNm7xUD"
      }
    },
    {
      "cell_type": "code",
      "source": [
        "!pip3 install ultralytics --quiet\n",
        "#!pip3 install tensorrt --quiet\n",
        "#!pip3 install roboflow --quiet"
      ],
      "metadata": {
        "id": "HGkVZwra8Q6u"
      },
      "execution_count": null,
      "outputs": []
    },
    {
      "cell_type": "code",
      "source": [
        "model = YOLO(\"best.pt\")  # load a custom trained model\n",
        "\n",
        "# Export the model\n",
        "model.export(format=\"onnx\", batch=1, imgsz=640, optimize=True, data=f\"{dataset.location}/data.yaml\")"
      ],
      "metadata": {
        "id": "EdA8oLz672d5"
      },
      "execution_count": null,
      "outputs": []
    },
    {
      "cell_type": "markdown",
      "source": [
        "# 참고 자료"
      ],
      "metadata": {
        "id": "6qAG_-80qJJf"
      }
    },
    {
      "cell_type": "markdown",
      "source": [
        "https://autoever-oneq.atlassian.net/wiki/spaces/ADP/pages/12124230/YOLO"
      ],
      "metadata": {
        "id": "PeDJ5FJOi4KG"
      }
    }
  ]
}